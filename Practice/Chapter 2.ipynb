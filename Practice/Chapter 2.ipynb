{
 "cells": [
  {
   "cell_type": "code",
   "execution_count": null,
   "metadata": {},
   "outputs": [],
   "source": [
    "from scipy.stats import binom, uniform\n",
    "import holoviews as hv\n",
    "import numpy as np\n",
    "\n",
    "hv.extension(\"bokeh\")"
   ]
  },
  {
   "cell_type": "markdown",
   "metadata": {},
   "source": [
    "### 2M1/2"
   ]
  },
  {
   "cell_type": "code",
   "execution_count": null,
   "metadata": {},
   "outputs": [],
   "source": [
    "f = lambda x: 0 if x < 0.5 else 1\n",
    "\n",
    "priors = {\"uniform\": uniform.pdf,\n",
    "          \"bound\": np.vectorize(f)}\n",
    "\n",
    "data = [(3, 3),\n",
    "        (4, 3),\n",
    "        (7, 5)]\n",
    "\n",
    "opts = dict(Scatter=dict(style=dict(size=5)),\n",
    "            Curve=dict(plot=dict(show_legend=False)))\n",
    "\n",
    "\n",
    "def compute_binom_posterior(n, hits, approx_cnt, prior_func):\n",
    "    parameters = np.linspace(0, 1, approx_cnt)\n",
    "    prior = prior_func(parameters)\n",
    "    likelihood = binom.pmf(k=hits, n=n, p=parameters)\n",
    "    posterior = prior * likelihood\n",
    "    \n",
    "    data = zip(parameters, posterior / np.sum(posterior))\n",
    "    \n",
    "    label=\"N: {}, Hits: {}, ApproxCount: {}\".format(n, hits, approx_cnt)\n",
    "    curve = hv.Curve(data, kdims=\"Parameter\", vdims=\"Probability\")\n",
    "    points = hv.Scatter(data)\n",
    "\n",
    "    return hv.Curve(list(zip(parameters, prior))) + (curve * points)"
   ]
  },
  {
   "cell_type": "code",
   "execution_count": null,
   "metadata": {
    "scrolled": false
   },
   "outputs": [],
   "source": [
    "plot_grid = {(prior, \"N: {} Hits:{}\".format(n, hits), approx): compute_binom_posterior(n, hits, approx, prior_func)\n",
    "             for n, hits in data\n",
    "             for approx in (5, 10, 20)\n",
    "             for prior, prior_func in priors.items()}\n",
    "\n",
    "kdims = [(\"prior\", \"prior\"), (\"setup\", \"setup\"), (\"approx\", \"approx\")]\n",
    "hv.HoloMap(plot_grid, kdims=kdims).collate()"
   ]
  },
  {
   "cell_type": "markdown",
   "metadata": {},
   "source": [
    "### 2M3"
   ]
  },
  {
   "cell_type": "code",
   "execution_count": null,
   "metadata": {},
   "outputs": [],
   "source": [
    "parameters = np.array([0.3, 1])\n",
    "prior = uniform.pdf(parameters)\n",
    "likelihood = binom.pmf(1, 1, parameters)\n",
    "\n",
    "posterior = prior*likelihood\n",
    "posterior/np.sum(posterior)"
   ]
  },
  {
   "cell_type": "markdown",
   "metadata": {},
   "source": [
    "### 2M4/5/6"
   ]
  },
  {
   "cell_type": "code",
   "execution_count": null,
   "metadata": {},
   "outputs": [],
   "source": [
    "parameters = np.array([1, 0.5, 0])\n",
    "prior = uniform.pdf(parameters)\n",
    "#prior = np.array([2, 1, 1])\n",
    "likelihood = binom.pmf(1, 1, parameters)\n",
    "\n",
    "posterior = prior*likelihood\n",
    "posterior/np.sum(posterior)"
   ]
  },
  {
   "cell_type": "markdown",
   "metadata": {},
   "source": [
    "### 2M7"
   ]
  },
  {
   "cell_type": "code",
   "execution_count": null,
   "metadata": {},
   "outputs": [],
   "source": [
    "parameters = np.array([1, 0.5, 0])\n",
    "prior = uniform.pdf(parameters)\n",
    "#prior = np.array([2, 1, 1])\n",
    "likelihood = binom.pmf(0, 1, parameters)\n",
    "\n",
    "posterior = prior*likelihood\n",
    "posterior/np.sum(posterior)"
   ]
  },
  {
   "cell_type": "markdown",
   "metadata": {},
   "source": [
    "### 2H1/H2"
   ]
  },
  {
   "cell_type": "code",
   "execution_count": null,
   "metadata": {},
   "outputs": [],
   "source": [
    "parameters = np.array([0.1, 0.2])\n",
    "prior = uniform.pdf(parameters)\n",
    "likelihood = binom.pmf(1, 1, parameters)\n",
    "\n",
    "posterior = prior*likelihood\n",
    "posterior = posterior/np.sum(posterior)\n",
    "posterior\n"
   ]
  },
  {
   "cell_type": "code",
   "execution_count": null,
   "metadata": {},
   "outputs": [],
   "source": [
    "np.sum(posterior * parameters)"
   ]
  },
  {
   "cell_type": "markdown",
   "metadata": {},
   "source": [
    "### 2H3"
   ]
  },
  {
   "cell_type": "code",
   "execution_count": null,
   "metadata": {},
   "outputs": [],
   "source": [
    "parameters = np.array([0.1, 0.2])\n",
    "prior = uniform.pdf(parameters)\n",
    "likelihood = binom.pmf(1, 2, parameters)\n",
    "\n",
    "posterior = prior*likelihood\n",
    "posterior = posterior/np.sum(posterior)\n",
    "posterior\n"
   ]
  },
  {
   "cell_type": "markdown",
   "metadata": {},
   "source": [
    "### 2H4"
   ]
  },
  {
   "cell_type": "code",
   "execution_count": null,
   "metadata": {},
   "outputs": [],
   "source": [
    "parameters = np.array([0.8, 0.35])\n",
    "prior = uniform.pdf(parameters)\n",
    "likelihood = binom.pmf(1, 1, parameters)\n",
    "\n",
    "posterior = prior*likelihood\n",
    "posterior = posterior/np.sum(posterior)\n",
    "\n",
    "prior_a = np.sum(posterior * parameters)"
   ]
  },
  {
   "cell_type": "code",
   "execution_count": null,
   "metadata": {},
   "outputs": [],
   "source": [
    "parameters = np.array([0.2, 0.65])\n",
    "prior = uniform.pdf(parameters)\n",
    "likelihood = binom.pmf(0, 1, parameters)\n",
    "\n",
    "posterior = prior*likelihood\n",
    "posterior = posterior/np.sum(posterior)\n",
    "\n",
    "prior_b = np.sum(posterior * parameters)"
   ]
  },
  {
   "cell_type": "code",
   "execution_count": null,
   "metadata": {},
   "outputs": [],
   "source": [
    "parameters = np.array([0.1, 0.2])\n",
    "prior = np.array([prior_a, prior_b])\n",
    "likelihood = binom.pmf(1, 2, parameters)\n",
    "\n",
    "posterior = prior*likelihood\n",
    "posterior = posterior/np.sum(posterior)\n",
    "posterior\n"
   ]
  },
  {
   "cell_type": "code",
   "execution_count": null,
   "metadata": {},
   "outputs": [],
   "source": []
  }
 ],
 "metadata": {
  "kernelspec": {
   "display_name": "Python 3",
   "language": "python",
   "name": "python3"
  },
  "language_info": {
   "codemirror_mode": {
    "name": "ipython",
    "version": 3
   },
   "file_extension": ".py",
   "mimetype": "text/x-python",
   "name": "python",
   "nbconvert_exporter": "python",
   "pygments_lexer": "ipython3",
   "version": "3.6.3"
  }
 },
 "nbformat": 4,
 "nbformat_minor": 2
}
