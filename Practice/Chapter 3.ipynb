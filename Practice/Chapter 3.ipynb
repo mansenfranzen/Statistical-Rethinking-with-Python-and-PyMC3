{
 "cells": [
  {
   "cell_type": "code",
   "execution_count": null,
   "metadata": {},
   "outputs": [],
   "source": [
    "import numpy as np\n",
    "from scipy import stats\n",
    "import pymc3 as pm\n",
    "\n",
    "import holoviews as hv\n",
    "hv.extension('bokeh')"
   ]
  },
  {
   "cell_type": "markdown",
   "metadata": {},
   "source": [
    "### Setup for 3E"
   ]
  },
  {
   "cell_type": "code",
   "execution_count": null,
   "metadata": {},
   "outputs": [],
   "source": [
    "%%opts Histogram [width=900]\n",
    "\n",
    "p_grid = np.linspace(0, 1, 1000)\n",
    "prior = stats.uniform.pdf(p_grid)\n",
    "likelihood = stats.binom.pmf(6, 9, p_grid)\n",
    "posterior = likelihood * prior\n",
    "posterior = posterior / sum(posterior)\n",
    "\n",
    "np.random.seed(100)\n",
    "size = int(1e4)\n",
    "samples = np.random.choice(p_grid, size=size, p=posterior)\n",
    "\n",
    "frequencies, edges = np.histogram(samples, 40)\n",
    "hv.Histogram(list(zip(edges, frequencies)), kdims=\"Parameter\", label=\"Samples drawn from posterior distribution\")"
   ]
  },
  {
   "cell_type": "markdown",
   "metadata": {},
   "source": [
    "### 3E1"
   ]
  },
  {
   "cell_type": "code",
   "execution_count": null,
   "metadata": {},
   "outputs": [],
   "source": [
    "np.sum(samples < 0.2) / size"
   ]
  },
  {
   "cell_type": "markdown",
   "metadata": {},
   "source": [
    "### 3E2"
   ]
  },
  {
   "cell_type": "code",
   "execution_count": null,
   "metadata": {},
   "outputs": [],
   "source": [
    "np.sum(samples > 0.8) / size"
   ]
  },
  {
   "cell_type": "markdown",
   "metadata": {},
   "source": [
    "### 3E3"
   ]
  },
  {
   "cell_type": "code",
   "execution_count": null,
   "metadata": {},
   "outputs": [],
   "source": [
    "np.sum((0.2 < samples) & (samples < 0.8)) / size"
   ]
  },
  {
   "cell_type": "markdown",
   "metadata": {},
   "source": [
    "### 3E4/5"
   ]
  },
  {
   "cell_type": "code",
   "execution_count": null,
   "metadata": {},
   "outputs": [],
   "source": [
    "np.percentile(samples, [20, 80])"
   ]
  },
  {
   "cell_type": "markdown",
   "metadata": {},
   "source": [
    "### 3E6"
   ]
  },
  {
   "cell_type": "code",
   "execution_count": null,
   "metadata": {},
   "outputs": [],
   "source": [
    "prob_mass = 0.66\n",
    "pm.stats.hpd(samples, 1-prob_mass)"
   ]
  },
  {
   "cell_type": "markdown",
   "metadata": {},
   "source": [
    "### 3E7"
   ]
  },
  {
   "cell_type": "code",
   "execution_count": null,
   "metadata": {},
   "outputs": [],
   "source": [
    "quantile = (1-prob_mass) / 2 * 100\n",
    "pm.stats.quantiles(samples, [quantile, 100-quantile])"
   ]
  },
  {
   "cell_type": "markdown",
   "metadata": {},
   "source": [
    "### 3M1/2"
   ]
  },
  {
   "cell_type": "code",
   "execution_count": null,
   "metadata": {},
   "outputs": [],
   "source": [
    "p_grid = np.linspace(0, 1, 1000)\n",
    "prior = stats.uniform.pdf(p_grid)\n",
    "likelihood = stats.binom.pmf(8, 15, p_grid)\n",
    "posterior = likelihood * prior\n",
    "posterior = posterior / sum(posterior)\n",
    "\n",
    "np.random.seed(100)\n",
    "size = int(1e4)\n",
    "samples = np.random.choice(p_grid, size=size, p=posterior)\n",
    "\n",
    "bound_lower, bound_upper = pm.stats.hpd(samples, 0.1)\n",
    "bound_lower, bound_upper"
   ]
  },
  {
   "cell_type": "code",
   "execution_count": null,
   "metadata": {},
   "outputs": [],
   "source": [
    "%%opts Histogram [width=900]\n",
    "\n",
    "frequencies, edges = np.histogram(samples, 40)\n",
    "hist = hv.Histogram(list(zip(edges, frequencies)), kdims=\"Parameter\", label=\"Samples drawn from posterior distribution\")\n",
    "hist * hist[bound_lower:bound_upper].relabel(\"90% HDI\")"
   ]
  },
  {
   "cell_type": "markdown",
   "metadata": {},
   "source": [
    "### 3M3"
   ]
  },
  {
   "cell_type": "code",
   "execution_count": null,
   "metadata": {},
   "outputs": [],
   "source": [
    "post_pred_dist = stats.binom.rvs(15, samples)\n",
    "np.sum(post_pred_dist == 8) / size"
   ]
  },
  {
   "cell_type": "code",
   "execution_count": null,
   "metadata": {},
   "outputs": [],
   "source": [
    "%%opts Bars [width=900]\n",
    "\n",
    "data = list(zip(*np.unique(post_pred_dist, return_counts=True)))\n",
    "hv.Bars(data, kdims=\"Water\", vdims=\"Frequency\", label=\"Posterior Predictive Distribution\")"
   ]
  },
  {
   "cell_type": "markdown",
   "metadata": {},
   "source": [
    "### 3M4"
   ]
  },
  {
   "cell_type": "code",
   "execution_count": null,
   "metadata": {},
   "outputs": [],
   "source": [
    "post_pred_dist = stats.binom.rvs(9, samples)\n",
    "np.sum(post_pred_dist == 6) / size"
   ]
  },
  {
   "cell_type": "code",
   "execution_count": null,
   "metadata": {
    "scrolled": true
   },
   "outputs": [],
   "source": [
    "%%opts Bars [width=900]\n",
    "\n",
    "data = list(zip(*np.unique(post_pred_dist, return_counts=True)))\n",
    "hv.Bars(data, kdims=\"Water\", vdims=\"Frequency\", label=\"Posterior Predictive Distribution\")"
   ]
  },
  {
   "cell_type": "markdown",
   "metadata": {},
   "source": [
    "### 3M5"
   ]
  },
  {
   "cell_type": "markdown",
   "metadata": {},
   "source": [
    "#### M1/2"
   ]
  },
  {
   "cell_type": "code",
   "execution_count": null,
   "metadata": {},
   "outputs": [],
   "source": [
    "p_grid = np.linspace(0, 1, 1000)\n",
    "prior = np.vectorize(lambda x: 0 if x < 0.5 else 1)(p_grid)\n",
    "likelihood = stats.binom.pmf(8, 15, p_grid)\n",
    "posterior = likelihood * prior\n",
    "posterior = posterior / sum(posterior)\n",
    "\n",
    "np.random.seed(100)\n",
    "size = int(1e4)\n",
    "samples = np.random.choice(p_grid, size=size, p=posterior)\n",
    "\n",
    "bound_lower, bound_upper = pm.stats.hpd(samples, 0.1)\n",
    "bound_lower, bound_upper"
   ]
  },
  {
   "cell_type": "code",
   "execution_count": null,
   "metadata": {},
   "outputs": [],
   "source": [
    "%%opts Histogram [width=900]\n",
    "\n",
    "frequencies, edges = np.histogram(samples, 40)\n",
    "hist = hv.Histogram(list(zip(edges, frequencies)), kdims=\"Parameter\", label=\"Samples drawn from posterior distribution\")\n",
    "hist = hist.redim.range(Parameter=(0, 1))\n",
    "hist * hist[bound_lower:bound_upper].relabel(\"90% HDI\")"
   ]
  },
  {
   "cell_type": "markdown",
   "metadata": {},
   "source": [
    "#### M3"
   ]
  },
  {
   "cell_type": "code",
   "execution_count": null,
   "metadata": {},
   "outputs": [],
   "source": [
    "post_pred_dist = stats.binom.rvs(15, samples)\n",
    "np.sum(post_pred_dist == 8) / size"
   ]
  },
  {
   "cell_type": "code",
   "execution_count": null,
   "metadata": {},
   "outputs": [],
   "source": [
    "%%opts Bars [width=900]\n",
    "\n",
    "data = list(zip(*np.unique(post_pred_dist, return_counts=True)))\n",
    "hv.Bars(data, kdims=\"Water\", vdims=\"Frequency\", label=\"Posterior Predictive Distribution\")"
   ]
  },
  {
   "cell_type": "markdown",
   "metadata": {},
   "source": [
    "#### M4"
   ]
  },
  {
   "cell_type": "code",
   "execution_count": null,
   "metadata": {},
   "outputs": [],
   "source": [
    "post_pred_dist = stats.binom.rvs(9, samples)\n",
    "np.sum(post_pred_dist == 6) / size"
   ]
  },
  {
   "cell_type": "code",
   "execution_count": null,
   "metadata": {
    "scrolled": true
   },
   "outputs": [],
   "source": [
    "%%opts Bars [width=900]\n",
    "\n",
    "data = list(zip(*np.unique(post_pred_dist, return_counts=True)))\n",
    "hv.Bars(data, kdims=\"Water\", vdims=\"Frequency\", label=\"Posterior Predictive Distribution\")"
   ]
  },
  {
   "cell_type": "markdown",
   "metadata": {},
   "source": [
    "### Setup 3H\n",
    "\n",
    "Code taken from [here](https://github.com/mansenfranzen/Statistical-Rethinking-with-Python-and-PyMC3/blob/master/Chp_03.ipynb)"
   ]
  },
  {
   "cell_type": "code",
   "execution_count": null,
   "metadata": {},
   "outputs": [],
   "source": [
    "birth1 = np.array([1,0,0,0,1,1,0,1,0,1,0,0,1,1,0,1,1,0,0,0,1,0,0,0,1,0, 0,0,0,1,1,1,0,1,0,1,1,1,0,1,0,1,1,0,1,0,0,1,1,0,1,0,0,0,0,0,0,0, 1,1,0,1,0,0,1,0,0,0,1,0,0,1,1,1,1,0,1,0,1,1,1,1,1,0,0,1,0,1,1,0,1,0,1,1,1,0,1,1,1,1])\n",
    "birth2 = np.array([0,1,0,1,0,1,1,1,0,0,1,1,1,1,1,0,0,1,1,1,0,0,1,1,1,0,1,1,1,0,1,1,1,0,1,0,0,1,1,1,1,0,0,1,0,1,1,1,1,1,1,1,1,1,1,1,1,1,1,1,1,0,1,1,0,1,1,0,1,1,1,0,0,0,0,0,0,1,0,0,0,1,1,0,0,1,0,0,1,1,0,0,0,1,1,1,0,0,0,0])"
   ]
  },
  {
   "cell_type": "code",
   "execution_count": null,
   "metadata": {},
   "outputs": [],
   "source": [
    "overall_boys_count = np.sum(birth1) + np.sum(birth2)\n",
    "size = birth1.size + birth2.size"
   ]
  },
  {
   "cell_type": "markdown",
   "metadata": {},
   "source": [
    "### 3H1"
   ]
  },
  {
   "cell_type": "code",
   "execution_count": null,
   "metadata": {},
   "outputs": [],
   "source": [
    "p_grid = np.linspace(0, 1, 1000)\n",
    "prior = stats.uniform.pdf(p_grid)\n",
    "likelihood = stats.binom.pmf(overall_boys_count, size, p_grid)\n",
    "posterior = likelihood * prior\n",
    "posterior = posterior / sum(posterior)"
   ]
  },
  {
   "cell_type": "code",
   "execution_count": null,
   "metadata": {},
   "outputs": [],
   "source": [
    "%%opts Curve [width=900]\n",
    "hv.Curve((p_grid, posterior), kdims=\"Parameters\", vdims=\"Probability\", label=\"Posterior Distribution\")"
   ]
  },
  {
   "cell_type": "code",
   "execution_count": null,
   "metadata": {},
   "outputs": [],
   "source": [
    "p_grid[np.argmax(posterior)]"
   ]
  },
  {
   "cell_type": "markdown",
   "metadata": {},
   "source": [
    "### 3H2"
   ]
  },
  {
   "cell_type": "code",
   "execution_count": null,
   "metadata": {},
   "outputs": [],
   "source": [
    "np.random.seed(100)\n",
    "size = int(1e4)\n",
    "samples = np.random.choice(p_grid, size=size, p=posterior)\n",
    "\n",
    "for hpd in (0.5, 0.89, 0.97):\n",
    "    print(hpd, \":\", pm.stats.hpd(samples, 1-hpd))"
   ]
  },
  {
   "cell_type": "markdown",
   "metadata": {},
   "source": [
    "### 3H3"
   ]
  },
  {
   "cell_type": "code",
   "execution_count": null,
   "metadata": {},
   "outputs": [],
   "source": [
    "%%opts Bars [width=900 xrotation=90]\n",
    "\n",
    "post_pred_dist = stats.binom.rvs(200, samples)\n",
    "\n",
    "data = list(zip(*np.unique(post_pred_dist, return_counts=True)))\n",
    "bars = hv.Bars(data, kdims=\"Boys\", vdims=\"Frequency\", label=\"Posterior Predictive Distribution\")\n",
    "bars[90: 131] * bars[111:112].relabel(\"True count\")"
   ]
  },
  {
   "cell_type": "markdown",
   "metadata": {},
   "source": [
    "### 3H4"
   ]
  },
  {
   "cell_type": "code",
   "execution_count": null,
   "metadata": {},
   "outputs": [],
   "source": [
    "boys_count1 = np.sum(birth1)\n",
    "size = birth1.size\n",
    "\n",
    "p_grid = np.linspace(0, 1, 1000)\n",
    "prior = stats.uniform.pdf(p_grid)\n",
    "likelihood = stats.binom.pmf(boys_count1, size, p_grid)\n",
    "posterior = likelihood * prior\n",
    "posterior = posterior / sum(posterior)\n",
    "\n",
    "np.random.seed(100)\n",
    "size = int(1e4)\n",
    "samples = np.random.choice(p_grid, size=size, p=posterior)"
   ]
  },
  {
   "cell_type": "code",
   "execution_count": null,
   "metadata": {},
   "outputs": [],
   "source": [
    "%%opts Bars [width=900 xrotation=90]\n",
    "\n",
    "post_pred_dist = stats.binom.rvs(100, samples)\n",
    "\n",
    "data = list(zip(*np.unique(post_pred_dist, return_counts=True)))\n",
    "bars = hv.Bars(data, kdims=\"Boys\", vdims=\"Frequency\", label=\"Posterior Predictive Distribution\")\n",
    "bars * bars[boys_count1:boys_count1+1].relabel(\"True count\")"
   ]
  },
  {
   "cell_type": "markdown",
   "metadata": {},
   "source": [
    "### 3H5"
   ]
  },
  {
   "cell_type": "code",
   "execution_count": null,
   "metadata": {},
   "outputs": [],
   "source": []
  }
 ],
 "metadata": {
  "kernelspec": {
   "display_name": "Python 3",
   "language": "python",
   "name": "python3"
  },
  "language_info": {
   "codemirror_mode": {
    "name": "ipython",
    "version": 3
   },
   "file_extension": ".py",
   "mimetype": "text/x-python",
   "name": "python",
   "nbconvert_exporter": "python",
   "pygments_lexer": "ipython3",
   "version": "3.6.3"
  }
 },
 "nbformat": 4,
 "nbformat_minor": 2
}
